{
 "cells": [
  {
   "cell_type": "code",
   "execution_count": 1,
   "id": "aee99f42-f2a9-4d92-baff-1efbf82c6c8f",
   "metadata": {},
   "outputs": [],
   "source": [
    "#program for grade>90 A, >80 and <=90 B, >=60 and <=80 c,>60  D"
   ]
  },
  {
   "cell_type": "code",
   "execution_count": 10,
   "id": "5ad4de20-1ce7-4fb3-888b-9d4dcac854ab",
   "metadata": {},
   "outputs": [
    {
     "name": "stdin",
     "output_type": "stream",
     "text": [
      "Enter the marks in % 98\n"
     ]
    },
    {
     "name": "stdout",
     "output_type": "stream",
     "text": [
      "A\n"
     ]
    }
   ],
   "source": [
    "marks=int(input(\"Enter the marks in %\"))\n",
    "if marks>90:\n",
    "    print(\"A\")\n",
    "elif marks>80 and marks<=90:\n",
    "    print(\"B\")\n",
    "elif marks>=60 and marks<=80:\n",
    "    print(\"C\")\n",
    "else:\n",
    "    print(\"D\")\n",
    "    \n"
   ]
  },
  {
   "cell_type": "code",
   "execution_count": 11,
   "id": "8a180b9c-c2a1-4e42-afed-56b666728216",
   "metadata": {},
   "outputs": [],
   "source": [
    "#taks pay programm costprice >100000 15%, >50000 and <=100000 10% and <50000 5%"
   ]
  },
  {
   "cell_type": "code",
   "execution_count": 13,
   "id": "a00fa350-21d6-4047-899a-44b09d43ecaf",
   "metadata": {},
   "outputs": [
    {
     "name": "stdin",
     "output_type": "stream",
     "text": [
      "Please enter the bike cost 120000\n"
     ]
    },
    {
     "name": "stdout",
     "output_type": "stream",
     "text": [
      "Road Tax=  18000.0\n"
     ]
    }
   ],
   "source": [
    "costprice=int(input(\"Please enter the bike cost\"))\n",
    "tax=0\n",
    "if costprice>100000:\n",
    "    print(\"Road Tax= \",(costprice*15)/100)\n",
    "elif costprice>50000 and costprice <= 100000:\n",
    "    print(\"Road Tax= \",(costprice*10)/100)\n",
    "else:\n",
    "    print(\"Road Tax= \",(costprice*5)/100)"
   ]
  },
  {
   "cell_type": "code",
   "execution_count": 14,
   "id": "118e5398-36a0-47ee-a9da-50c4934537be",
   "metadata": {},
   "outputs": [],
   "source": [
    "#city and monuments delhi-red fort,agra-tajmahl and jaypur-jal mahal"
   ]
  },
  {
   "cell_type": "code",
   "execution_count": 15,
   "id": "98dcff61-4eb7-476e-a853-0c51e0ab3d4e",
   "metadata": {},
   "outputs": [
    {
     "name": "stdin",
     "output_type": "stream",
     "text": [
      "Enter the name of city Delhi\n"
     ]
    },
    {
     "name": "stdout",
     "output_type": "stream",
     "text": [
      "Red Fort\n"
     ]
    }
   ],
   "source": [
    "city=str(input(\"Enter the name of city\"))\n",
    "if city ==\"Delhi\":\n",
    "    print(\"Red Fort\")\n",
    "elif city==\"Jaipur\":\n",
    "    print(\"Jal Mahal\")\n",
    "elif city==\"Agra\":\n",
    "    print(\"Taj Mahal\")\n",
    "else:\n",
    "    print(\"Choose correct city\")"
   ]
  },
  {
   "cell_type": "code",
   "execution_count": 16,
   "id": "329e1199-deef-46a2-830d-fbff68e51055",
   "metadata": {},
   "outputs": [],
   "source": [
    "#check how many times a number is devide by 3 before it is less than 10 "
   ]
  },
  {
   "cell_type": "code",
   "execution_count": 21,
   "id": "52115273-6873-4443-b299-de3b0c925e30",
   "metadata": {},
   "outputs": [
    {
     "name": "stdin",
     "output_type": "stream",
     "text": [
      "Enter the number 99\n"
     ]
    },
    {
     "name": "stdout",
     "output_type": "stream",
     "text": [
      "3\n"
     ]
    }
   ],
   "source": [
    "num=int(input(\"Enter the number\"))\n",
    "count = 0\n",
    "\n",
    "while num >= 10:\n",
    "    num=num//3\n",
    "    count=count+1\n",
    "\n",
    "print(count)"
   ]
  },
  {
   "cell_type": "code",
   "execution_count": 22,
   "id": "e1d771e5-5f9e-4f86-a71b-d2e78afd8494",
   "metadata": {},
   "outputs": [],
   "source": [
    "#use of while loop"
   ]
  },
  {
   "cell_type": "code",
   "execution_count": 23,
   "id": "80b9e41a-d79a-48cc-8052-3f998fa1215f",
   "metadata": {},
   "outputs": [
    {
     "name": "stdin",
     "output_type": "stream",
     "text": [
      "Enter the number 45\n"
     ]
    },
    {
     "name": "stdout",
     "output_type": "stream",
     "text": [
      "2\n"
     ]
    }
   ],
   "source": [
    "''' when we do not know about how many numbers of time a loop will executed in such a case we should use while loop\n",
    "Example-'''\n",
    "num=int(input(\"Enter the number\"))\n",
    "count = 0\n",
    "\n",
    "while num >= 10:\n",
    "    num=num//3\n",
    "    count=count+1\n",
    "\n",
    "print(count)"
   ]
  },
  {
   "cell_type": "code",
   "execution_count": 32,
   "id": "9da2c703-2cfa-4015-a7f6-9e330ca8c774",
   "metadata": {},
   "outputs": [
    {
     "name": "stdout",
     "output_type": "stream",
     "text": [
      "* \n",
      "* * \n",
      "* * * \n",
      "* * * * \n",
      "* * * * * \n"
     ]
    }
   ],
   "source": [
    "#use nested while loops for pattern\n",
    "n = 5  # Number of rows\n",
    "i = 0\n",
    "\n",
    "while i < n:\n",
    "    j = 0\n",
    "    while j <= i:\n",
    "        print('*', end=' ')\n",
    "        j += 1\n",
    "    print()\n",
    "    i += 1\n"
   ]
  },
  {
   "cell_type": "code",
   "execution_count": 37,
   "id": "8d61e193-ab45-4b52-9eaf-3649c9a2a5c3",
   "metadata": {},
   "outputs": [
    {
     "name": "stdout",
     "output_type": "stream",
     "text": [
      "* \n",
      "* * \n",
      "* * * \n",
      "* * * * \n",
      "* * * * * \n"
     ]
    }
   ],
   "source": [
    "n = 5  # Number of rows\n",
    "i = 0\n",
    "\n",
    "while i < n:\n",
    "    j = 0\n",
    "    while j <= i:\n",
    "        print('*', end=' ')\n",
    "        j += 1\n",
    "    print()\n",
    "    i += 1\n"
   ]
  },
  {
   "cell_type": "code",
   "execution_count": 39,
   "id": "e3928726-8c4e-45d7-bf11-4c3b6e2ebaa0",
   "metadata": {},
   "outputs": [
    {
     "name": "stdout",
     "output_type": "stream",
     "text": [
      "10 9 8 7 6 5 4 3 2 1 "
     ]
    }
   ],
   "source": [
    "#numbers from 10 to 1 using while loop\n",
    "n=10\n",
    "while n >=1:\n",
    "    print(n,end=' ')\n",
    "    n=n-1"
   ]
  },
  {
   "cell_type": "code",
   "execution_count": null,
   "id": "b78d37b5-7e82-4357-8305-a7ec31736b2c",
   "metadata": {},
   "outputs": [],
   "source": []
  }
 ],
 "metadata": {
  "kernelspec": {
   "display_name": "Python 3 (ipykernel)",
   "language": "python",
   "name": "python3"
  },
  "language_info": {
   "codemirror_mode": {
    "name": "ipython",
    "version": 3
   },
   "file_extension": ".py",
   "mimetype": "text/x-python",
   "name": "python",
   "nbconvert_exporter": "python",
   "pygments_lexer": "ipython3",
   "version": "3.12.4"
  }
 },
 "nbformat": 4,
 "nbformat_minor": 5
}
